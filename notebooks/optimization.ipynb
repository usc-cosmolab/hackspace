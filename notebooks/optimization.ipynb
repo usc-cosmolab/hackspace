{
 "cells": [
  {
   "cell_type": "markdown",
   "id": "through-official",
   "metadata": {
    "slideshow": {
     "slide_type": "slide"
    }
   },
   "source": [
    "# Optimization\n",
    "\n",
    "Starting note: beware of *premature optimization*.  Don't worry about optimizing unless it's necessary.  \n",
    "\n",
    "**However**, if you find your development cycle is dominated by waiting for your code to run, then consider optimization.  A bit of investment could save a lot of time and increase your overall productivity."
   ]
  },
  {
   "cell_type": "markdown",
   "id": "greenhouse-mechanism",
   "metadata": {
    "slideshow": {
     "slide_type": "slide"
    }
   },
   "source": [
    "## Test problem:\n",
    "\n",
    "Sum all squares up to some number $N - 1$:\n",
    "$$ s = \\sum_{i=0}^{N-1} i^2 $$\n",
    "\n",
    "Let's start by writing down one way to do this in python."
   ]
  },
  {
   "cell_type": "code",
   "execution_count": null,
   "id": "familiar-intermediate",
   "metadata": {
    "slideshow": {
     "slide_type": "fragment"
    }
   },
   "outputs": [],
   "source": [
    "N = 1000000\n",
    "\n",
    "def sum_baseline(N):\n",
    "    s = 0\n",
    "    for i in range(N):\n",
    "        s += i**2\n",
    "    return s\n",
    "\n",
    "sum_baseline(N)"
   ]
  },
  {
   "cell_type": "markdown",
   "id": "directed-selling",
   "metadata": {
    "slideshow": {
     "slide_type": "slide"
    }
   },
   "source": [
    "## Timing code\n",
    "\n",
    "How fast does this execute?"
   ]
  },
  {
   "cell_type": "code",
   "execution_count": null,
   "id": "loaded-portugal",
   "metadata": {
    "slideshow": {
     "slide_type": "fragment"
    }
   },
   "outputs": [],
   "source": [
    "%timeit sum_baseline(N)"
   ]
  },
  {
   "cell_type": "markdown",
   "id": "interstate-viking",
   "metadata": {
    "slideshow": {
     "slide_type": "fragment"
    }
   },
   "source": [
    "How different is this from computer to computer?  Anyone much slower or much faster?"
   ]
  },
  {
   "cell_type": "markdown",
   "id": "vanilla-annex",
   "metadata": {
    "slideshow": {
     "slide_type": "subslide"
    }
   },
   "source": [
    "## Examples"
   ]
  },
  {
   "cell_type": "markdown",
   "id": "specialized-services",
   "metadata": {
    "slideshow": {
     "slide_type": "subslide"
    }
   },
   "source": [
    "Example with list comprehension"
   ]
  },
  {
   "cell_type": "code",
   "execution_count": null,
   "id": "another-fundamental",
   "metadata": {
    "jupyter": {
     "source_hidden": true
    },
    "slideshow": {
     "slide_type": "-"
    }
   },
   "outputs": [],
   "source": [
    "def sum_comprehension(N):\n",
    "    return sum([i**2 for i in range(N)])\n",
    "\n",
    "%timeit sum_baseline(N)\n",
    "%timeit sum_comprehension(N)"
   ]
  },
  {
   "cell_type": "markdown",
   "id": "hispanic-imagination",
   "metadata": {
    "slideshow": {
     "slide_type": "subslide"
    }
   },
   "source": [
    "Examples using numpy"
   ]
  },
  {
   "cell_type": "code",
   "execution_count": null,
   "id": "demanding-rebate",
   "metadata": {
    "jupyter": {
     "source_hidden": true
    },
    "slideshow": {
     "slide_type": "fragment"
    }
   },
   "outputs": [],
   "source": [
    "import numpy as np\n",
    "\n",
    "def sum_numpy_good(N):\n",
    "    a = np.arange(N)**2\n",
    "    return a.sum()\n",
    "\n",
    "def sum_numpy_bad(N):\n",
    "    s = 0\n",
    "    for i in np.arange(N):\n",
    "        s += i**2 \n",
    "    return s"
   ]
  },
  {
   "cell_type": "code",
   "execution_count": null,
   "id": "dutch-board",
   "metadata": {
    "slideshow": {
     "slide_type": "fragment"
    }
   },
   "outputs": [],
   "source": [
    "%timeit sum_baseline(N)\n",
    "%timeit sum_numpy_good(N)\n",
    "%timeit sum_numpy_bad(N)"
   ]
  },
  {
   "cell_type": "markdown",
   "id": "technological-mailman",
   "metadata": {
    "slideshow": {
     "slide_type": "fragment"
    }
   },
   "source": [
    "General point: in python, avoid loops as much as possible when doing calculations!  That's what numpy is for."
   ]
  },
  {
   "cell_type": "markdown",
   "id": "weighted-closure",
   "metadata": {
    "slideshow": {
     "slide_type": "subslide"
    }
   },
   "source": [
    "A perhaps surprising/unexpected way to optimize?"
   ]
  },
  {
   "cell_type": "code",
   "execution_count": null,
   "id": "raised-festival",
   "metadata": {
    "jupyter": {
     "source_hidden": true
    },
    "slideshow": {
     "slide_type": "-"
    }
   },
   "outputs": [],
   "source": [
    "def sum_multiplication(N):\n",
    "    s = 0 \n",
    "    for i in range(N):\n",
    "        s = i*i\n",
    "    return s\n",
    "\n",
    "%timeit sum_baseline(N)\n",
    "%timeit sum_multiplication(N)"
   ]
  },
  {
   "cell_type": "markdown",
   "id": "earlier-discretion",
   "metadata": {
    "slideshow": {
     "slide_type": "subslide"
    }
   },
   "source": [
    "## Compiled examples \n",
    "\n",
    "1. cython\n",
    "2. numba"
   ]
  },
  {
   "cell_type": "markdown",
   "id": "loving-fundamentals",
   "metadata": {
    "slideshow": {
     "slide_type": "subslide"
    }
   },
   "source": [
    "### Cython: automatic python-to-C conversion"
   ]
  },
  {
   "cell_type": "code",
   "execution_count": null,
   "id": "vocational-wildlife",
   "metadata": {},
   "outputs": [],
   "source": [
    "# If necessary for you:\n",
    "# !pip install cython"
   ]
  },
  {
   "cell_type": "code",
   "execution_count": null,
   "id": "familiar-queue",
   "metadata": {
    "jupyter": {
     "outputs_hidden": true,
     "source_hidden": true
    },
    "slideshow": {
     "slide_type": "-"
    }
   },
   "outputs": [],
   "source": [
    "%load_ext cython"
   ]
  },
  {
   "cell_type": "code",
   "execution_count": null,
   "id": "blank-elder",
   "metadata": {
    "jupyter": {
     "source_hidden": true
    },
    "slideshow": {
     "slide_type": "fragment"
    }
   },
   "outputs": [],
   "source": [
    "%%cython\n",
    "\n",
    "def sum_cython(N):\n",
    "    cdef int s = 0\n",
    "    cdef int i\n",
    "    for i in range(N):\n",
    "        s += i**2\n",
    "    return s"
   ]
  },
  {
   "cell_type": "code",
   "execution_count": null,
   "id": "rapid-harrison",
   "metadata": {
    "slideshow": {
     "slide_type": "fragment"
    }
   },
   "outputs": [],
   "source": [
    "%timeit sum_baseline(N)\n",
    "%timeit sum_numpy_good(N)\n",
    "%timeit sum_cython(N)"
   ]
  },
  {
   "cell_type": "markdown",
   "id": "black-lewis",
   "metadata": {
    "slideshow": {
     "slide_type": "subslide"
    }
   },
   "source": [
    "Side note: type declaration in cython really helps!"
   ]
  },
  {
   "cell_type": "code",
   "execution_count": null,
   "id": "corporate-description",
   "metadata": {
    "slideshow": {
     "slide_type": "fragment"
    }
   },
   "outputs": [],
   "source": [
    "%%cython\n",
    "\n",
    "def sum_cython_slow(N):\n",
    "    s = 0\n",
    "    for i in range(N):\n",
    "        s += i**2\n",
    "    return s"
   ]
  },
  {
   "cell_type": "code",
   "execution_count": null,
   "id": "sublime-rotation",
   "metadata": {
    "slideshow": {
     "slide_type": "-"
    }
   },
   "outputs": [],
   "source": [
    "%timeit sum_cython(N)\n",
    "%timeit sum_cython_slow(N)"
   ]
  },
  {
   "cell_type": "markdown",
   "id": "acoustic-internship",
   "metadata": {
    "slideshow": {
     "slide_type": "subslide"
    }
   },
   "source": [
    "### numba: \"just-in-time\" compilation"
   ]
  },
  {
   "cell_type": "code",
   "execution_count": null,
   "id": "exclusive-premises",
   "metadata": {},
   "outputs": [],
   "source": [
    "# If you need to\n",
    "#!pip install numba  "
   ]
  },
  {
   "cell_type": "code",
   "execution_count": null,
   "id": "organizational-modeling",
   "metadata": {
    "jupyter": {
     "source_hidden": true
    },
    "slideshow": {
     "slide_type": "fragment"
    }
   },
   "outputs": [],
   "source": [
    "from numba import jit\n",
    "\n",
    "@jit(nopython=True)\n",
    "def sum_numba(N):\n",
    "    s = 0\n",
    "    for i in range(N):\n",
    "        s += i**2\n",
    "    return s"
   ]
  },
  {
   "cell_type": "code",
   "execution_count": null,
   "id": "focal-benchmark",
   "metadata": {
    "slideshow": {
     "slide_type": "fragment"
    }
   },
   "outputs": [],
   "source": [
    "%timeit sum_numpy_good(N)\n",
    "%timeit sum_cython(N)\n",
    "%timeit sum_numba(N)"
   ]
  },
  {
   "cell_type": "markdown",
   "id": "smoking-drawing",
   "metadata": {
    "slideshow": {
     "slide_type": "fragment"
    }
   },
   "source": [
    "Advantage over cython?  Slightly easier development b/c *exact same* code runs in python; just add decorator."
   ]
  },
  {
   "cell_type": "markdown",
   "id": "forward-webcam",
   "metadata": {
    "slideshow": {
     "slide_type": "slide"
    }
   },
   "source": [
    "## Profiling\n",
    "\n",
    "The example calculation we have been working with is very simplified.  In real problems, in order to be able to optimize, you need to know where your execution bottlenecks are.  With this in mind, let's do a (very slightly) more complex example---reading in data from disk before summing it up.\n",
    "\n",
    "First, let's make up the pretend data set."
   ]
  },
  {
   "cell_type": "code",
   "execution_count": null,
   "id": "pediatric-colony",
   "metadata": {
    "slideshow": {
     "slide_type": "fragment"
    }
   },
   "outputs": [],
   "source": [
    "data = np.arange(N)\n",
    "np.savetxt('pretend_data.txt', data)"
   ]
  },
  {
   "cell_type": "markdown",
   "id": "primary-disorder",
   "metadata": {
    "slideshow": {
     "slide_type": "subslide"
    }
   },
   "source": [
    "Let's say we want to compute the sum of the squares of this dataset.  This is now a two-step process:\n",
    "\n",
    "1. Read the data from disk.\n",
    "2. Do the calculation."
   ]
  },
  {
   "cell_type": "code",
   "execution_count": null,
   "id": "major-brighton",
   "metadata": {
    "slideshow": {
     "slide_type": "fragment"
    }
   },
   "outputs": [],
   "source": [
    "def my_pipeline():\n",
    "    # load data\n",
    "    data = np.loadtxt('pretend_data.txt')\n",
    "    \n",
    "    # compute sum\n",
    "    s = 0\n",
    "    for i in range(len(data)):\n",
    "        s += i**2\n",
    "    return s"
   ]
  },
  {
   "cell_type": "code",
   "execution_count": null,
   "id": "mechanical-pathology",
   "metadata": {
    "slideshow": {
     "slide_type": "fragment"
    }
   },
   "outputs": [],
   "source": [
    "%timeit my_pipeline()"
   ]
  },
  {
   "cell_type": "markdown",
   "id": "green-unemployment",
   "metadata": {
    "slideshow": {
     "slide_type": "subslide"
    }
   },
   "source": [
    "Finding the bottleneck by **profiling** your code.  Use the ipython \"magic function\" `%prun`:"
   ]
  },
  {
   "cell_type": "code",
   "execution_count": null,
   "id": "least-bargain",
   "metadata": {
    "slideshow": {
     "slide_type": "fragment"
    }
   },
   "outputs": [],
   "source": [
    "%prun my_pipeline()"
   ]
  },
  {
   "cell_type": "markdown",
   "id": "sophisticated-scholar",
   "metadata": {
    "slideshow": {
     "slide_type": "subslide"
    }
   },
   "source": [
    "### Line profiling\n",
    "\n",
    "You can even do this line-by-line using the `line_profiler` package and Jupyter extension.\n",
    "\n",
    "Install if you need to, and then load the Jupyter extension."
   ]
  },
  {
   "cell_type": "code",
   "execution_count": null,
   "id": "photographic-assignment",
   "metadata": {
    "scrolled": true,
    "slideshow": {
     "slide_type": "-"
    }
   },
   "outputs": [],
   "source": [
    "# Install if you need to\n",
    "# !pip install line_profiler"
   ]
  },
  {
   "cell_type": "code",
   "execution_count": null,
   "id": "corresponding-concrete",
   "metadata": {
    "slideshow": {
     "slide_type": "-"
    }
   },
   "outputs": [],
   "source": [
    "%load_ext line_profiler"
   ]
  },
  {
   "cell_type": "markdown",
   "id": "chicken-student",
   "metadata": {
    "slideshow": {
     "slide_type": "subslide"
    }
   },
   "source": [
    "Now, you can use the `%lprun` magic function!  "
   ]
  },
  {
   "cell_type": "code",
   "execution_count": null,
   "id": "forward-tract",
   "metadata": {
    "slideshow": {
     "slide_type": "fragment"
    }
   },
   "outputs": [],
   "source": [
    "%lprun -f my_pipeline my_pipeline()"
   ]
  },
  {
   "cell_type": "markdown",
   "id": "genuine-murder",
   "metadata": {
    "slideshow": {
     "slide_type": "fragment"
    }
   },
   "source": [
    "Reading in the data is clearly shown to be the bottleneck!"
   ]
  },
  {
   "cell_type": "markdown",
   "id": "revolutionary-contribution",
   "metadata": {
    "slideshow": {
     "slide_type": "subslide"
    }
   },
   "source": [
    "Let's see what we can do about that!"
   ]
  },
  {
   "cell_type": "code",
   "execution_count": null,
   "id": "assumed-convertible",
   "metadata": {
    "slideshow": {
     "slide_type": "fragment"
    }
   },
   "outputs": [],
   "source": [
    "# Save/load the data as binary instead of as a text file\n",
    "np.save('pretend_data.npy', np.arange(N))\n",
    "\n",
    "def my_binary_pipeline():\n",
    "    data = np.load('pretend_data.npy')\n",
    "    \n",
    "    s = 0\n",
    "    for i in range(len(data)):\n",
    "        s += i**2\n",
    "    return s"
   ]
  },
  {
   "cell_type": "code",
   "execution_count": null,
   "id": "centered-colorado",
   "metadata": {
    "slideshow": {
     "slide_type": "fragment"
    }
   },
   "outputs": [],
   "source": [
    "%timeit my_binary_pipeline()"
   ]
  },
  {
   "cell_type": "markdown",
   "id": "auburn-routine",
   "metadata": {
    "slideshow": {
     "slide_type": "subslide"
    }
   },
   "source": [
    "And now, line profiling:"
   ]
  },
  {
   "cell_type": "code",
   "execution_count": null,
   "id": "wireless-catalyst",
   "metadata": {
    "slideshow": {
     "slide_type": "-"
    }
   },
   "outputs": [],
   "source": [
    "%lprun -f my_binary_pipeline my_binary_pipeline()"
   ]
  },
  {
   "cell_type": "markdown",
   "id": "usual-techno",
   "metadata": {
    "slideshow": {
     "slide_type": "fragment"
    }
   },
   "source": [
    "Now, the summing is indeed the bottleneck, so we can improve performance by optimizing code!"
   ]
  },
  {
   "cell_type": "code",
   "execution_count": null,
   "id": "blessed-veteran",
   "metadata": {
    "slideshow": {
     "slide_type": "subslide"
    }
   },
   "outputs": [],
   "source": [
    "def my_optimized_binary_pipeline():\n",
    "    data = np.load('pretend_data.npy')\n",
    "    return (data**2).sum()"
   ]
  },
  {
   "cell_type": "code",
   "execution_count": null,
   "id": "frank-hanging",
   "metadata": {
    "slideshow": {
     "slide_type": "-"
    }
   },
   "outputs": [],
   "source": [
    "%timeit my_optimized_binary_pipeline()"
   ]
  },
  {
   "cell_type": "code",
   "execution_count": null,
   "id": "naked-lawrence",
   "metadata": {
    "slideshow": {
     "slide_type": "fragment"
    }
   },
   "outputs": [],
   "source": [
    "%lprun -f my_optimized_binary_pipeline my_optimized_binary_pipeline()"
   ]
  },
  {
   "cell_type": "markdown",
   "id": "legislative-foster",
   "metadata": {
    "slideshow": {
     "slide_type": "slide"
    }
   },
   "source": [
    "Great resource on profiling/timing code: \n",
    "\n",
    "https://jakevdp.github.io/PythonDataScienceHandbook/01.07-timing-and-profiling.html"
   ]
  }
 ],
 "metadata": {
  "celltoolbar": "Slideshow",
  "kernelspec": {
   "display_name": "Python 3",
   "language": "python",
   "name": "python3"
  },
  "language_info": {
   "codemirror_mode": {
    "name": "ipython",
    "version": 3
   },
   "file_extension": ".py",
   "mimetype": "text/x-python",
   "name": "python",
   "nbconvert_exporter": "python",
   "pygments_lexer": "ipython3",
   "version": "3.7.4"
  }
 },
 "nbformat": 4,
 "nbformat_minor": 5
}
